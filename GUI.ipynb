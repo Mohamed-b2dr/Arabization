{
 "cells": [
  {
   "cell_type": "code",
   "execution_count": 1,
   "metadata": {},
   "outputs": [],
   "source": [
    "import tkinter as tk  \n",
    "from functools import partial\n",
    "from generate_poems import *"
   ]
  },
  {
   "cell_type": "code",
   "execution_count": 1,
   "metadata": {},
   "outputs": [
    {
     "ename": "SyntaxError",
     "evalue": "invalid syntax (3542585074.py, line 27)",
     "output_type": "error",
     "traceback": [
      "\u001b[1;36m  Input \u001b[1;32mIn [1]\u001b[1;36m\u001b[0m\n\u001b[1;33m    entryNum2 = tk.Entry(root, textvariable=rhyme=).grid(row=2, column=2)\u001b[0m\n\u001b[1;37m                                                 ^\u001b[0m\n\u001b[1;31mSyntaxError\u001b[0m\u001b[1;31m:\u001b[0m invalid syntax\n"
     ]
    }
   ],
   "source": [
    "\n",
    "\n",
    "def generate( label_result , namep ,rhyme):\n",
    "    namepoet = namep.get()\n",
    "\n",
    "    rhymep= rhyme.get()\n",
    "    \n",
    "    x = generate_poem_single_rhyme(\n",
    "                            namepoet,\n",
    "                            rhymep,\n",
    "                            iterations=3000,\n",
    "                            use_tqdm=False\n",
    "                            )\n",
    "\n",
    "    label_result.config(text=\"القصيدة :\\n\\n\" +  x ) \n",
    "    return\n",
    "root = tk.Tk()  \n",
    "root.geometry('400x200+100+200')  \n",
    "  \n",
    "root.title('الشعر') \n",
    "namep = tk.StringVar()  \n",
    "rhyme= tk.StringVar() \n",
    "labelNum1 = tk.Label(root, text=\"الشاعر\").grid(row=1, column=0)  \n",
    "  \n",
    "labelNum2 = tk.Label(root, text=\"القافية\").grid(row=2, column=0) \n",
    "\n",
    "entryNum1 = tk.Entry(root, textvariable=namep).grid(row=1, column=2)  \n",
    "  \n",
    "entryNum2 = tk.Entry(root, textvariable=rhyme).grid(row=2, column=2) \n",
    "\n",
    "labelResult = tk.Label(root)  \n",
    "labelResult.grid(row=25, column=2) \n",
    "\n",
    "call_result = partial(generate, namep ,rhyme )  \n",
    "  \n",
    "buttonCal = tk.Button(root, text=\"انشاء\", command=call_result).grid(row=20, column=0)\n",
    "buttonCa2 = tk.Button(root, text=\"الصزت\", command=call_result).grid(row=20, column = 1)\n",
    "\n"
   ]
  },
  {
   "cell_type": "code",
   "execution_count": null,
   "metadata": {},
   "outputs": [],
   "source": []
  },
  {
   "cell_type": "code",
   "execution_count": null,
   "metadata": {},
   "outputs": [],
   "source": []
  }
 ],
 "metadata": {
  "interpreter": {
   "hash": "3d4565c17806d8c674df3cceb42fec104abb51fe23f79f3854efade49c88a27b"
  },
  "kernelspec": {
   "display_name": "Python 3.8.13 ('gpu_test')",
   "language": "python",
   "name": "python3"
  },
  "language_info": {
   "codemirror_mode": {
    "name": "ipython",
    "version": 3
   },
   "file_extension": ".py",
   "mimetype": "text/x-python",
   "name": "python",
   "nbconvert_exporter": "python",
   "pygments_lexer": "ipython3",
   "version": "3.8.13"
  },
  "orig_nbformat": 4
 },
 "nbformat": 4,
 "nbformat_minor": 2
}
